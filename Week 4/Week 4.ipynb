{
 "cells": [
  {
   "cell_type": "code",
   "execution_count": 23,
   "metadata": {},
   "outputs": [],
   "source": [
    "import pandas as pd\n",
    "import matplotlib.pyplot as plt"
   ]
  },
  {
   "cell_type": "code",
   "execution_count": 24,
   "metadata": {},
   "outputs": [
    {
     "name": "stdout",
     "output_type": "stream",
     "text": [
      "    Flight Date Carrier  Flight Number Origin Destination  Departure Time  \\\n",
      "0     11/1/2015      AA            111    ORD         LAX          1709.0   \n",
      "1     11/1/2015      AA           1092    ORD         LAX          2021.0   \n",
      "2     11/1/2015      AA           1081    ORD         LAX           841.0   \n",
      "3     11/1/2015      AA           1243    ORD         LAX           705.0   \n",
      "4     11/1/2015      AA           1358    ORD         LAX          1508.0   \n",
      "..          ...     ...            ...    ...         ...             ...   \n",
      "738  11/30/2015      UA           1098    ORD         LAX           611.0   \n",
      "739  11/30/2015      UA           1440    ORD         LAX          2247.0   \n",
      "740  11/30/2015      VX            231    ORD         LAX           732.0   \n",
      "741  11/30/2015      VX            241    ORD         LAX          1715.0   \n",
      "742  11/30/2015      UA            204    ORD         LAX             NaN   \n",
      "\n",
      "     Departure Delay  Arrival Time  Arrival Delay  Flight Time  \n",
      "0               -1.0        1952.0            2.0          283  \n",
      "1               -4.0        2243.0          -20.0          262  \n",
      "2               -4.0        1052.0          -33.0          251  \n",
      "3               -5.0         919.0          -31.0          254  \n",
      "4               -2.0        1739.0          -10.0          271  \n",
      "..               ...           ...            ...          ...  \n",
      "738             -5.0         829.0          -25.0          258  \n",
      "739             97.0         101.0           75.0          254  \n",
      "740             32.0         957.0           22.0          265  \n",
      "741              5.0        1940.0           -5.0          265  \n",
      "742              NaN           NaN            NaN            0  \n",
      "\n",
      "[743 rows x 10 columns]\n"
     ]
    }
   ],
   "source": [
    "FlightTime = pd.read_csv(\"FlightTime.csv\")\n",
    "print(FlightTime)"
   ]
  },
  {
   "cell_type": "code",
   "execution_count": 25,
   "metadata": {},
   "outputs": [
    {
     "name": "stdout",
     "output_type": "stream",
     "text": [
      "<class 'pandas.core.frame.DataFrame'>\n",
      "RangeIndex: 743 entries, 0 to 742\n",
      "Data columns (total 10 columns):\n",
      " #   Column           Non-Null Count  Dtype  \n",
      "---  ------           --------------  -----  \n",
      " 0   Flight Date      743 non-null    object \n",
      " 1   Carrier          743 non-null    object \n",
      " 2   Flight Number    743 non-null    int64  \n",
      " 3   Origin           743 non-null    object \n",
      " 4   Destination      743 non-null    object \n",
      " 5   Departure Time   731 non-null    float64\n",
      " 6   Departure Delay  731 non-null    float64\n",
      " 7   Arrival Time     729 non-null    float64\n",
      " 8   Arrival Delay    729 non-null    float64\n",
      " 9   Flight Time      743 non-null    int64  \n",
      "dtypes: float64(4), int64(2), object(4)\n",
      "memory usage: 58.2+ KB\n",
      "None\n"
     ]
    }
   ],
   "source": [
    "print(FlightTime.info())"
   ]
  },
  {
   "cell_type": "code",
   "execution_count": 27,
   "metadata": {},
   "outputs": [
    {
     "name": "stdout",
     "output_type": "stream",
     "text": [
      "<class 'pandas.core.frame.DataFrame'>\n",
      "Index: 729 entries, 0 to 741\n",
      "Data columns (total 10 columns):\n",
      " #   Column           Non-Null Count  Dtype  \n",
      "---  ------           --------------  -----  \n",
      " 0   Flight Date      729 non-null    object \n",
      " 1   Carrier          729 non-null    object \n",
      " 2   Flight Number    729 non-null    int64  \n",
      " 3   Origin           729 non-null    object \n",
      " 4   Destination      729 non-null    object \n",
      " 5   Departure Time   729 non-null    float64\n",
      " 6   Departure Delay  729 non-null    float64\n",
      " 7   Arrival Time     729 non-null    float64\n",
      " 8   Arrival Delay    729 non-null    float64\n",
      " 9   Flight Time      729 non-null    int64  \n",
      "dtypes: float64(4), int64(2), object(4)\n",
      "memory usage: 62.6+ KB\n",
      "None\n"
     ]
    }
   ],
   "source": [
    "FlightTime = FlightTime.dropna(subset = ['Arrival Time', 'Departure Time'])\n",
    "print(FlightTime.info())"
   ]
  },
  {
   "cell_type": "code",
   "execution_count": 32,
   "metadata": {},
   "outputs": [
    {
     "name": "stdout",
     "output_type": "stream",
     "text": [
      "    Flight Date Carrier  Flight Number Origin Destination  Departure Time  \\\n",
      "0     11/1/2015      AA            111    ORD         LAX          1709.0   \n",
      "1     11/1/2015      AA           1092    ORD         LAX          2021.0   \n",
      "2     11/1/2015      AA           1081    ORD         LAX           841.0   \n",
      "3     11/1/2015      AA           1243    ORD         LAX           705.0   \n",
      "4     11/1/2015      AA           1358    ORD         LAX          1508.0   \n",
      "..          ...     ...            ...    ...         ...             ...   \n",
      "737  11/30/2015      UA            793    ORD         LAX          1610.0   \n",
      "738  11/30/2015      UA           1098    ORD         LAX           611.0   \n",
      "739  11/30/2015      UA           1440    ORD         LAX          2247.0   \n",
      "740  11/30/2015      VX            231    ORD         LAX           732.0   \n",
      "741  11/30/2015      VX            241    ORD         LAX          1715.0   \n",
      "\n",
      "     Departure Delay  Arrival Time  Arrival Delay  Flight Time  \n",
      "0               -1.0        1952.0            2.0          283  \n",
      "1               -4.0        2243.0          -20.0          262  \n",
      "2               -4.0        1052.0          -33.0          251  \n",
      "3               -5.0         919.0          -31.0          254  \n",
      "4               -2.0        1739.0          -10.0          271  \n",
      "..               ...           ...            ...          ...  \n",
      "737              3.0        1827.0          -16.0          257  \n",
      "738             -5.0         829.0          -25.0          258  \n",
      "739             97.0         101.0           75.0          254  \n",
      "740             32.0         957.0           22.0          265  \n",
      "741              5.0        1940.0           -5.0          265  \n",
      "\n",
      "[729 rows x 10 columns]\n"
     ]
    }
   ],
   "source": [
    "for x in FlightTime.index:\n",
    "    if (FlightTime.loc[x, 'Flight Time'] < 230):\n",
    "        FlightTime = FlightTime.drop(x, inplace = True)\n",
    "print(FlightTime)"
   ]
  },
  {
   "cell_type": "code",
   "execution_count": 37,
   "metadata": {},
   "outputs": [
    {
     "name": "stdout",
     "output_type": "stream",
     "text": [
      "729\n"
     ]
    }
   ],
   "source": [
    "print(FlightTime.shape[0])"
   ]
  },
  {
   "cell_type": "code",
   "execution_count": 38,
   "metadata": {},
   "outputs": [
    {
     "name": "stdout",
     "output_type": "stream",
     "text": [
      "251.18939\n"
     ]
    }
   ],
   "source": [
    "d = 1841.16\n",
    "lori = -87.90\n",
    "ldes = -118.41\n",
    "TFT = 0.117 * d + 0.517 * (lori - ldes) + 20\n",
    "print(TFT)"
   ]
  },
  {
   "cell_type": "code",
   "execution_count": 45,
   "metadata": {},
   "outputs": [
    {
     "name": "stdout",
     "output_type": "stream",
     "text": [
      "274.8217631138546\n"
     ]
    }
   ],
   "source": [
    "TT = TFT + FlightTime['Departure Delay'].mean() + FlightTime['Arrival Delay'].mean()\n",
    "print(TT)"
   ]
  },
  {
   "cell_type": "code",
   "execution_count": 55,
   "metadata": {},
   "outputs": [
    {
     "data": {
      "text/html": [
       "<div>\n",
       "<style scoped>\n",
       "    .dataframe tbody tr th:only-of-type {\n",
       "        vertical-align: middle;\n",
       "    }\n",
       "\n",
       "    .dataframe tbody tr th {\n",
       "        vertical-align: top;\n",
       "    }\n",
       "\n",
       "    .dataframe thead th {\n",
       "        text-align: right;\n",
       "    }\n",
       "</style>\n",
       "<table border=\"1\" class=\"dataframe\">\n",
       "  <thead>\n",
       "    <tr style=\"text-align: right;\">\n",
       "      <th></th>\n",
       "      <th>Carrier</th>\n",
       "      <th>Flight Time</th>\n",
       "    </tr>\n",
       "  </thead>\n",
       "  <tbody>\n",
       "    <tr>\n",
       "      <th>0</th>\n",
       "      <td>AA</td>\n",
       "      <td>283</td>\n",
       "    </tr>\n",
       "    <tr>\n",
       "      <th>1</th>\n",
       "      <td>AA</td>\n",
       "      <td>262</td>\n",
       "    </tr>\n",
       "    <tr>\n",
       "      <th>2</th>\n",
       "      <td>AA</td>\n",
       "      <td>251</td>\n",
       "    </tr>\n",
       "    <tr>\n",
       "      <th>3</th>\n",
       "      <td>AA</td>\n",
       "      <td>254</td>\n",
       "    </tr>\n",
       "    <tr>\n",
       "      <th>4</th>\n",
       "      <td>AA</td>\n",
       "      <td>271</td>\n",
       "    </tr>\n",
       "    <tr>\n",
       "      <th>...</th>\n",
       "      <td>...</td>\n",
       "      <td>...</td>\n",
       "    </tr>\n",
       "    <tr>\n",
       "      <th>737</th>\n",
       "      <td>UA</td>\n",
       "      <td>257</td>\n",
       "    </tr>\n",
       "    <tr>\n",
       "      <th>738</th>\n",
       "      <td>UA</td>\n",
       "      <td>258</td>\n",
       "    </tr>\n",
       "    <tr>\n",
       "      <th>739</th>\n",
       "      <td>UA</td>\n",
       "      <td>254</td>\n",
       "    </tr>\n",
       "    <tr>\n",
       "      <th>740</th>\n",
       "      <td>VX</td>\n",
       "      <td>265</td>\n",
       "    </tr>\n",
       "    <tr>\n",
       "      <th>741</th>\n",
       "      <td>VX</td>\n",
       "      <td>265</td>\n",
       "    </tr>\n",
       "  </tbody>\n",
       "</table>\n",
       "<p>729 rows × 2 columns</p>\n",
       "</div>"
      ],
      "text/plain": [
       "    Carrier  Flight Time\n",
       "0        AA          283\n",
       "1        AA          262\n",
       "2        AA          251\n",
       "3        AA          254\n",
       "4        AA          271\n",
       "..      ...          ...\n",
       "737      UA          257\n",
       "738      UA          258\n",
       "739      UA          254\n",
       "740      VX          265\n",
       "741      VX          265\n",
       "\n",
       "[729 rows x 2 columns]"
      ]
     },
     "execution_count": 55,
     "metadata": {},
     "output_type": "execute_result"
    }
   ],
   "source": [
    "FlightTime[['Carrier', 'Flight Time']]"
   ]
  },
  {
   "cell_type": "code",
   "execution_count": 64,
   "metadata": {},
   "outputs": [
    {
     "name": "stdout",
     "output_type": "stream",
     "text": [
      "         Departure Delay  Arrival Delay  Flight Time\n",
      "Carrier                                             \n",
      "AA             13.582456       3.045614   267.375439\n",
      "F9             13.310345      23.275862   275.310345\n",
      "NK             17.084746      14.881356   267.559322\n",
      "UA             19.969799      11.194631   269.174497\n",
      "VX              5.965517      -1.568966   265.913793\n",
      "13.582456140350876\n"
     ]
    }
   ],
   "source": [
    "grouped = FlightTime[['Carrier', 'Departure Delay', 'Arrival Delay', 'Flight Time']].groupby([\"Carrier\"])\n",
    "Time = grouped.mean()\n",
    "print(Time)\n",
    "print(Time.loc['AA', 'Departure Delay'])\n"
   ]
  },
  {
   "cell_type": "code",
   "execution_count": 83,
   "metadata": {},
   "outputs": [
    {
     "name": "stdout",
     "output_type": "stream",
     "text": [
      "[284.00350877192983, 311.89655172413796, 299.52542372881356, 300.33892617449663, 270.31034482758616]\n",
      "Index(['AA', 'F9', 'NK', 'UA', 'VX'], dtype='object', name='Carrier')\n"
     ]
    }
   ],
   "source": [
    "CarrierTime = []\n",
    "for i in Time.index:\n",
    "    CarrierTime.append((Time.loc[i, 'Departure Delay'] + Time.loc[i, 'Arrival Delay'] + Time.loc[i, 'Flight Time']))\n",
    "print(CarrierTime)\n",
    "print(Time.index)"
   ]
  },
  {
   "cell_type": "code",
   "execution_count": 90,
   "metadata": {},
   "outputs": [
    {
     "name": "stdout",
     "output_type": "stream",
     "text": [
      "         Flight Time\n",
      "Carrier             \n",
      "AA        284.003509\n",
      "F9        311.896552\n",
      "NK        299.525424\n",
      "UA        300.338926\n",
      "VX        270.310345\n"
     ]
    }
   ],
   "source": [
    "AirlineTime = pd.DataFrame({\"Flight Time\" : CarrierTime}, Time.index)\n",
    "print(AirlineTime)"
   ]
  },
  {
   "cell_type": "code",
   "execution_count": 91,
   "metadata": {},
   "outputs": [
    {
     "name": "stdout",
     "output_type": "stream",
     "text": [
      "[9.181745658075215, 37.07478861028335, 24.70366061495895, 25.51716306064202, -4.5114182862684515]\n"
     ]
    }
   ],
   "source": [
    "addedTime = []\n",
    "for i in AirlineTime.index:\n",
    "    addedTime.append(AirlineTime.loc[i, 'Flight Time'] - TT)\n",
    "print(addedTime)\n"
   ]
  },
  {
   "cell_type": "code",
   "execution_count": 94,
   "metadata": {},
   "outputs": [
    {
     "name": "stdout",
     "output_type": "stream",
     "text": [
      "         Flight Time  Added Time\n",
      "Carrier                         \n",
      "AA        284.003509    9.181746\n",
      "F9        311.896552   37.074789\n",
      "NK        299.525424   24.703661\n",
      "UA        300.338926   25.517163\n",
      "VX        270.310345   -4.511418\n"
     ]
    }
   ],
   "source": [
    "AirlineTime['Added Time'] = addedTime\n",
    "print(AirlineTime)"
   ]
  },
  {
   "cell_type": "code",
   "execution_count": 97,
   "metadata": {},
   "outputs": [
    {
     "data": {
      "image/png": "[encoded data removed]",
      "text/plain": [
       "<Figure size 640x480 with 1 Axes>"
      ]
     },
     "metadata": {},
     "output_type": "display_data"
    }
   ],
   "source": [
    "AirlineTime.plot(kind = 'bar', y = 'Added Time')\n",
    "plt.show()"
   ]
  },
  {
   "cell_type": "code",
   "execution_count": null,
   "metadata": {},
   "outputs": [],
   "source": []
  }
 ],
 "metadata": {
  "kernelspec": {
   "display_name": "base",
   "language": "python",
   "name": "python3"
  },
  "language_info": {
   "codemirror_mode": {
    "name": "ipython",
    "version": 3
   },
   "file_extension": ".py",
   "mimetype": "text/x-python",
   "name": "python",
   "nbconvert_exporter": "python",
   "pygments_lexer": "ipython3",
   "version": "3.11.5"
  }
 },
 "nbformat": 4,
 "nbformat_minor": 2
}
