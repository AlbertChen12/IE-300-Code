{
 "cells": [
  {
   "cell_type": "code",
   "execution_count": 83,
   "metadata": {},
   "outputs": [],
   "source": [
    "import csv\n",
    "import math as m\n",
    "import numpy as np"
   ]
  },
  {
   "cell_type": "code",
   "execution_count": 84,
   "metadata": {},
   "outputs": [
    {
     "name": "stdout",
     "output_type": "stream",
     "text": [
      "[['custName', 'SKU', 'orderQty', 'unitPrice'], ['RY', 'A', '46', '2.9'], ['WX', 'T', '60', '1.17'], ['LV', 'A', '36', '3.66'], ['WX', 'A', '24', '3.36'], ['LV', 'A', '73', '4.57'], ['WX', 'T', '52', '3.36'], ['RY', 'A', '48', '1.95'], ['RY', 'A', '13', '2'], ['WX', 'T', '34', '3.7'], ['LV', 'A', '64', '4.58'], ['LV', 'T', '17', '2.51']]\n"
     ]
    }
   ],
   "source": [
    "file1 = open('LabDemo.csv', 'r')\n",
    "reader1 = csv.reader(file1)\n",
    "Demo_data = list(reader1)\n",
    "print(Demo_data)"
   ]
  },
  {
   "cell_type": "code",
   "execution_count": 85,
   "metadata": {},
   "outputs": [
    {
     "name": "stdout",
     "output_type": "stream",
     "text": [
      "[['custName', 'SKU', 'orderQty', 'unitPrice'], ['RY', 'A', 46, 2.9], ['WX', 'T', 60, 1.17], ['LV', 'A', 36, 3.66], ['WX', 'A', 24, 3.36], ['LV', 'A', 73, 4.57], ['WX', 'T', 52, 3.36], ['RY', 'A', 48, 1.95], ['RY', 'A', 13, 2.0], ['WX', 'T', 34, 3.7], ['LV', 'A', 64, 4.58], ['LV', 'T', 17, 2.51]]\n"
     ]
    }
   ],
   "source": [
    "for i in range(1, len(Demo_data)):\n",
    "    Demo_data[i][2] = int(Demo_data[i][2])\n",
    "    Demo_data[i][3] = float(Demo_data[i][3])\n",
    "\n",
    "print(Demo_data)"
   ]
  },
  {
   "cell_type": "code",
   "execution_count": null,
   "metadata": {},
   "outputs": [],
   "source": [
    "mean = 0\n"
   ]
  },
  {
   "cell_type": "code",
   "execution_count": 86,
   "metadata": {},
   "outputs": [
    {
     "name": "stdout",
     "output_type": "stream",
     "text": [
      "[['a'], ['1']]\n",
      "1\n",
      "<class 'int'>\n",
      "[['a'], [1]]\n"
     ]
    }
   ],
   "source": [
    "test = list([['a'],['1']])\n",
    "print(test)\n",
    "print(test[1][0])\n",
    "print(type(int(test[1][0])))\n",
    "test[1][0] = eval(test[1][0])\n",
    "print(test)"
   ]
  },
  {
   "cell_type": "code",
   "execution_count": null,
   "metadata": {},
   "outputs": [],
   "source": []
  }
 ],
 "metadata": {
  "kernelspec": {
   "display_name": "base",
   "language": "python",
   "name": "python3"
  },
  "language_info": {
   "codemirror_mode": {
    "name": "ipython",
    "version": 3
   },
   "file_extension": ".py",
   "mimetype": "text/x-python",
   "name": "python",
   "nbconvert_exporter": "python",
   "pygments_lexer": "ipython3",
   "version": "3.11.5"
  }
 },
 "nbformat": 4,
 "nbformat_minor": 2
}
