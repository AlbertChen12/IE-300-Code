{
 "cells": [
  {
   "cell_type": "code",
   "execution_count": 13,
   "metadata": {},
   "outputs": [],
   "source": [
    "import math as m"
   ]
  },
  {
   "cell_type": "code",
   "execution_count": 32,
   "metadata": {},
   "outputs": [
    {
     "name": "stdout",
     "output_type": "stream",
     "text": [
      "probability:  0.7933952528379773\n"
     ]
    }
   ],
   "source": [
    "N = 20\n",
    "K = 4\n",
    "n = 6\n",
    "\n",
    "#Hypergeometric distribution\n",
    "X = m.comb(K, 0) * m.comb(N - K, n) / m.comb(N, n)\n",
    "\n",
    "#1 - probability of not having defects parts selected\n",
    "print(\"probability: \", 1-X)"
   ]
  },
  {
   "cell_type": "code",
   "execution_count": 33,
   "metadata": {},
   "outputs": [
    {
     "name": "stdout",
     "output_type": "stream",
     "text": [
      "0 1.0\n",
      "1 0.8\n",
      "2 0.631578947368421\n",
      "3 0.49122807017543857\n",
      "4 0.37564499484004127\n",
      "5 0.28173374613003094\n",
      "6 0.2066047471620227\n",
      "7 0.1475748194014448\n",
      "8 0.1021671826625387\n",
      "9 0.06811145510835913\n",
      "10 0.043343653250773995\n",
      "11 0.026006191950464396\n",
      "12 0.014447884416924664\n",
      "13 0.007223942208462332\n",
      "14 0.0030959752321981426\n",
      "15 0.0010319917440660474\n",
      "16 0.0002063983488132095\n",
      "17 0.0\n",
      "18 0.0\n",
      "19 0.0\n"
     ]
    }
   ],
   "source": [
    "for i in range(0,N):\n",
    "    f = m.comb(K,0) * m.comb(N - K, i) / m.comb(N, i)\n",
    "    print(i, f)"
   ]
  },
  {
   "cell_type": "code",
   "execution_count": null,
   "metadata": {},
   "outputs": [],
   "source": []
  },
  {
   "cell_type": "code",
   "execution_count": null,
   "metadata": {},
   "outputs": [],
   "source": []
  }
 ],
 "metadata": {
  "kernelspec": {
   "display_name": "base",
   "language": "python",
   "name": "python3"
  },
  "language_info": {
   "codemirror_mode": {
    "name": "ipython",
    "version": 3
   },
   "file_extension": ".py",
   "mimetype": "text/x-python",
   "name": "python",
   "nbconvert_exporter": "python",
   "pygments_lexer": "ipython3",
   "version": "3.11.5"
  }
 },
 "nbformat": 4,
 "nbformat_minor": 2
}
