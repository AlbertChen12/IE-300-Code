{
 "cells": [
  {
   "cell_type": "code",
   "execution_count": 124,
   "metadata": {},
   "outputs": [],
   "source": [
    "import pandas as pd\n",
    "import matplotlib.pyplot as plt"
   ]
  },
  {
   "cell_type": "code",
   "execution_count": 125,
   "metadata": {},
   "outputs": [
    {
     "name": "stdout",
     "output_type": "stream",
     "text": [
      "     Carrier Origin Destination  Departure Delay  Arrival Delay\n",
      "0         AA    JFK         LAS               -5            -23\n",
      "1         AA    SFO         ORD               -5            -27\n",
      "2         AA    SFO         ORD               -1            -26\n",
      "3         AA    SFO         ORD               -9            -30\n",
      "4         AA    SFO         ORD               -9             -9\n",
      "...      ...    ...         ...              ...            ...\n",
      "2341      WN    SFO         LAS                0            -10\n",
      "2342      WN    SFO         LAS                1            -10\n",
      "2343      WN    SFO         LAS               -6            -16\n",
      "2344      WN    SFO         LAS               15             13\n",
      "2345      WN    SFO         LAS               -1            -11\n",
      "\n",
      "[2346 rows x 5 columns]\n",
      "<class 'pandas.core.frame.DataFrame'>\n",
      "RangeIndex: 2346 entries, 0 to 2345\n",
      "Data columns (total 5 columns):\n",
      " #   Column           Non-Null Count  Dtype \n",
      "---  ------           --------------  ----- \n",
      " 0   Carrier          2346 non-null   object\n",
      " 1   Origin           2346 non-null   object\n",
      " 2   Destination      2346 non-null   object\n",
      " 3   Departure Delay  2346 non-null   int64 \n",
      " 4   Arrival Delay    2346 non-null   int64 \n",
      "dtypes: int64(2), object(3)\n",
      "memory usage: 91.8+ KB\n",
      "None\n"
     ]
    }
   ],
   "source": [
    "FlightDelay = pd.read_csv(\"FlightDelay.csv\")\n",
    "print(FlightDelay)\n",
    "print(FlightDelay.info())"
   ]
  },
  {
   "cell_type": "code",
   "execution_count": 126,
   "metadata": {},
   "outputs": [
    {
     "data": {
      "text/plain": [
       "0      -28\n",
       "1      -32\n",
       "2      -27\n",
       "3      -39\n",
       "4      -18\n",
       "        ..\n",
       "2341   -10\n",
       "2342    -9\n",
       "2343   -22\n",
       "2344    28\n",
       "2345   -12\n",
       "Length: 2346, dtype: int64"
      ]
     },
     "execution_count": 126,
     "metadata": {},
     "output_type": "execute_result"
    }
   ],
   "source": [
    "delayTime = FlightDelay['Departure Delay'] + FlightDelay['Arrival Delay']\n",
    "delayTime"
   ]
  },
  {
   "cell_type": "code",
   "execution_count": 127,
   "metadata": {},
   "outputs": [],
   "source": [
    "FlightDelay.insert(5, 'Delay Time', delayTime)"
   ]
  },
  {
   "cell_type": "code",
   "execution_count": 128,
   "metadata": {},
   "outputs": [
    {
     "name": "stdout",
     "output_type": "stream",
     "text": [
      "     Carrier Origin Destination  Departure Delay  Arrival Delay  Delay Time\n",
      "0         AA    JFK         LAS               -5            -23         -28\n",
      "1         AA    SFO         ORD               -5            -27         -32\n",
      "2         AA    SFO         ORD               -1            -26         -27\n",
      "3         AA    SFO         ORD               -9            -30         -39\n",
      "4         AA    SFO         ORD               -9             -9         -18\n",
      "...      ...    ...         ...              ...            ...         ...\n",
      "2341      WN    SFO         LAS                0            -10         -10\n",
      "2342      WN    SFO         LAS                1            -10          -9\n",
      "2343      WN    SFO         LAS               -6            -16         -22\n",
      "2344      WN    SFO         LAS               15             13          28\n",
      "2345      WN    SFO         LAS               -1            -11         -12\n",
      "\n",
      "[2346 rows x 6 columns]\n"
     ]
    }
   ],
   "source": [
    "print(FlightDelay)"
   ]
  },
  {
   "cell_type": "code",
   "execution_count": 142,
   "metadata": {},
   "outputs": [
    {
     "name": "stdout",
     "output_type": "stream",
     "text": [
      "['N', 'N', 'N', 'N', 'N', 'N', 'N', 'N', 'N', 'N', 'N', 'N', 'Y', 'N', 'N', 'Y', 'Y', 'N', 'N', 'N', 'N', 'N', 'N', 'Y', 'N', 'N', 'N', 'Y', 'N', 'N', 'N', 'N', 'N', 'N', 'Y', 'N', 'Y', 'Y', 'Y', 'N', 'Y', 'N', 'N', 'N', 'N', 'Y', 'N', 'N', 'N', 'N', 'N', 'N', 'N', 'Y', 'N', 'Y', 'Y', 'N', 'N', 'Y', 'N', 'N', 'N', 'N', 'Y', 'N', 'N', 'N', 'Y', 'N', 'N', 'N', 'Y', 'N', 'Y', 'N', 'N', 'N', 'N', 'N', 'N', 'N', 'Y', 'N', 'N', 'N', 'N', 'N', 'N', 'N', 'N', 'N', 'N', 'Y', 'Y', 'N', 'Y', 'N', 'N', 'N', 'N', 'N', 'N', 'Y', 'N', 'N', 'N', 'N', 'N', 'N', 'N', 'N', 'N', 'N', 'N', 'N', 'N', 'N', 'N', 'N', 'N', 'N', 'N', 'N', 'N', 'Y', 'N', 'N', 'N', 'N', 'N', 'N', 'N', 'N', 'N', 'N', 'Y', 'N', 'N', 'N', 'N', 'N', 'Y', 'N', 'N', 'N', 'N', 'N', 'N', 'N', 'N', 'N', 'N', 'N', 'Y', 'N', 'N', 'Y', 'N', 'N', 'N', 'Y', 'Y', 'N', 'N', 'N', 'N', 'Y', 'N', 'N', 'N', 'N', 'N', 'N', 'Y', 'N', 'N', 'N', 'N', 'N', 'N', 'N', 'N', 'N', 'N', 'Y', 'N', 'N', 'Y', 'Y', 'N', 'N', 'N', 'N', 'N', 'N', 'N', 'N', 'N', 'N', 'N', 'N', 'N', 'N', 'N', 'N', 'N', 'N', 'N', 'N', 'Y', 'N', 'Y', 'N', 'N', 'Y', 'N', 'N', 'N', 'N', 'Y', 'N', 'Y', 'N', 'N', 'N', 'N', 'N', 'N', 'N', 'N', 'N', 'N', 'N', 'Y', 'N', 'N', 'N', 'N', 'N', 'N', 'N', 'N', 'N', 'N', 'N', 'N', 'N', 'N', 'N', 'N', 'N', 'Y', 'N', 'N', 'N', 'N', 'N', 'N', 'N', 'N', 'N', 'N', 'N', 'N', 'Y', 'N', 'N', 'N', 'Y', 'Y', 'N', 'N', 'N', 'N', 'Y', 'N', 'N', 'N', 'N', 'N', 'N', 'N', 'Y', 'N', 'Y', 'N', 'N', 'N', 'N', 'N', 'N', 'N', 'N', 'N', 'Y', 'N', 'N', 'Y', 'Y', 'Y', 'N', 'Y', 'N', 'N', 'N', 'N', 'N', 'N', 'N', 'N', 'N', 'N', 'N', 'N', 'N', 'N', 'Y', 'N', 'N', 'N', 'Y', 'N', 'Y', 'Y', 'N', 'N', 'N', 'N', 'N', 'N', 'Y', 'N', 'N', 'N', 'N', 'N', 'N', 'Y', 'N', 'N', 'N', 'N', 'Y', 'N', 'N', 'N', 'N', 'N', 'Y', 'N', 'N', 'N', 'N', 'N', 'N', 'N', 'N', 'N', 'N', 'N', 'N', 'N', 'Y', 'N', 'N', 'N', 'N', 'Y', 'Y', 'N', 'N', 'Y', 'N', 'N', 'N', 'Y', 'N', 'N', 'N', 'N', 'N', 'N', 'N', 'N', 'N', 'N', 'N', 'Y', 'N', 'N', 'N', 'N', 'N', 'N', 'N', 'N', 'N', 'N', 'N', 'N', 'Y', 'Y', 'N', 'N', 'Y', 'N', 'N', 'Y', 'N', 'Y', 'N', 'N', 'Y', 'Y', 'N', 'Y', 'Y', 'N', 'N', 'N', 'N', 'N', 'N', 'Y', 'N', 'N', 'N', 'Y', 'N', 'Y', 'N', 'Y', 'N', 'N', 'Y', 'N', 'N', 'Y', 'Y', 'Y', 'Y', 'Y', 'N', 'N', 'Y', 'Y', 'N', 'N', 'N', 'N', 'N', 'N', 'N', 'Y', 'N', 'N', 'N', 'Y', 'N', 'N', 'N', 'N', 'Y', 'Y', 'N', 'N', 'N', 'Y', 'N', 'N', 'Y', 'N', 'N', 'Y', 'N', 'N', 'N', 'Y', 'N', 'Y', 'Y', 'N', 'N', 'Y', 'N', 'N', 'Y', 'N', 'N', 'Y', 'N', 'N', 'N', 'N', 'Y', 'N', 'N', 'N', 'N', 'N', 'N', 'N', 'N', 'N', 'N', 'Y', 'N', 'Y', 'Y', 'N', 'N', 'Y', 'Y', 'N', 'N', 'Y', 'N', 'N', 'N', 'N', 'N', 'Y', 'N', 'N', 'N', 'N', 'N', 'Y', 'N', 'N', 'N', 'Y', 'N', 'N', 'N', 'N', 'N', 'N', 'N', 'Y', 'Y', 'N', 'Y', 'N', 'Y', 'N', 'N', 'Y', 'N', 'N', 'N', 'N', 'Y', 'N', 'N', 'N', 'N', 'Y', 'N', 'N', 'N', 'N', 'N', 'N', 'Y', 'N', 'N', 'Y', 'N', 'Y', 'N', 'Y', 'N', 'N', 'Y', 'N', 'Y', 'Y', 'Y', 'N', 'N', 'Y', 'N', 'Y', 'N', 'Y', 'N', 'N', 'Y', 'N', 'N', 'N', 'N', 'N', 'N', 'Y', 'N', 'Y', 'N', 'Y', 'N', 'N', 'N', 'Y', 'Y', 'Y', 'N', 'N', 'N', 'N', 'N', 'N', 'N', 'N', 'N', 'N', 'N', 'Y', 'N', 'N', 'N', 'N', 'N', 'N', 'N', 'N', 'Y', 'N', 'N', 'N', 'N', 'Y', 'N', 'N', 'Y', 'N', 'N', 'N', 'N', 'N', 'N', 'Y', 'N', 'Y', 'N', 'N', 'Y', 'Y', 'N', 'Y', 'N', 'Y', 'N', 'Y', 'N', 'N', 'Y', 'N', 'N', 'N', 'N', 'N', 'N', 'N', 'N', 'N', 'N', 'N', 'N', 'Y', 'Y', 'N', 'N', 'N', 'N', 'N', 'N', 'N', 'N', 'Y', 'N', 'N', 'N', 'N', 'N', 'N', 'N', 'Y', 'N', 'Y', 'N', 'Y', 'Y', 'Y', 'N', 'N', 'Y', 'N', 'Y', 'N', 'N', 'N', 'N', 'N', 'N', 'N', 'N', 'N', 'N', 'N', 'N', 'N', 'N', 'Y', 'N', 'Y', 'N', 'Y', 'N', 'N', 'N', 'N', 'Y', 'N', 'N', 'Y', 'N', 'Y', 'N', 'Y', 'Y', 'Y', 'Y', 'Y', 'N', 'Y', 'N', 'N', 'N', 'Y', 'N', 'Y', 'N', 'N', 'N', 'Y', 'N', 'N', 'N', 'N', 'N', 'N', 'N', 'N', 'N', 'N', 'N', 'N', 'N', 'N', 'N', 'N', 'N', 'N', 'N', 'N', 'N', 'N', 'N', 'N', 'N', 'N', 'N', 'N', 'N', 'N', 'Y', 'N', 'N', 'N', 'N', 'N', 'N', 'N', 'N', 'N', 'N', 'N', 'N', 'N', 'N', 'Y', 'N', 'N', 'N', 'Y', 'Y', 'N', 'N', 'N', 'Y', 'Y', 'N', 'N', 'Y', 'N', 'N', 'N', 'N', 'N', 'N', 'Y', 'N', 'N', 'N', 'N', 'Y', 'Y', 'N', 'N', 'N', 'N', 'N', 'Y', 'N', 'N', 'N', 'N', 'N', 'N', 'Y', 'N', 'N', 'Y', 'N', 'N', 'N', 'N', 'N', 'N', 'N', 'N', 'N', 'N', 'N', 'N', 'Y', 'N', 'Y', 'N', 'N', 'N', 'N', 'Y', 'N', 'N', 'N', 'N', 'N', 'N', 'N', 'N', 'N', 'N', 'N', 'N', 'Y', 'N', 'Y', 'Y', 'N', 'N', 'Y', 'N', 'N', 'Y', 'N', 'N', 'N', 'N', 'N', 'N', 'N', 'N', 'N', 'N', 'N', 'N', 'N', 'N', 'N', 'N', 'Y', 'N', 'N', 'N', 'N', 'N', 'N', 'N', 'N', 'Y', 'N', 'N', 'N', 'N', 'N', 'N', 'N', 'Y', 'N', 'N', 'N', 'Y', 'N', 'N', 'N', 'N', 'N', 'N', 'N', 'Y', 'N', 'N', 'N', 'N', 'N', 'N', 'N', 'N', 'N', 'N', 'N', 'N', 'N', 'N', 'N', 'Y', 'N', 'N', 'N', 'N', 'N', 'N', 'N', 'N', 'N', 'N', 'N', 'N', 'N', 'N', 'N', 'Y', 'N', 'N', 'N', 'Y', 'N', 'Y', 'N', 'N', 'N', 'N', 'Y', 'N', 'N', 'N', 'N', 'N', 'N', 'N', 'N', 'N', 'N', 'N', 'N', 'N', 'N', 'N', 'Y', 'N', 'N', 'N', 'N', 'N', 'N', 'N', 'N', 'N', 'N', 'N', 'N', 'N', 'N', 'N', 'N', 'N', 'N', 'Y', 'N', 'N', 'N', 'N', 'N', 'Y', 'N', 'N', 'N', 'N', 'N', 'N', 'N', 'Y', 'N', 'Y', 'N', 'N', 'N', 'N', 'N', 'N', 'N', 'N', 'N', 'N', 'N', 'N', 'N', 'Y', 'N', 'N', 'N', 'N', 'N', 'N', 'N', 'N', 'N', 'N', 'Y', 'N', 'N', 'N', 'Y', 'N', 'N', 'N', 'N', 'N', 'N', 'N', 'N', 'N', 'N', 'N', 'N', 'N', 'N', 'N', 'Y', 'N', 'Y', 'N', 'Y', 'N', 'N', 'N', 'N', 'N', 'N', 'Y', 'N', 'N', 'Y', 'Y', 'N', 'N', 'N', 'N', 'N', 'Y', 'N', 'N', 'N', 'Y', 'N', 'Y', 'Y', 'N', 'N', 'N', 'N', 'Y', 'Y', 'N', 'Y', 'N', 'Y', 'N', 'Y', 'Y', 'N', 'Y', 'N', 'N', 'Y', 'Y', 'N', 'Y', 'N', 'N', 'Y', 'N', 'N', 'N', 'N', 'Y', 'N', 'Y', 'N', 'Y', 'Y', 'N', 'Y', 'N', 'Y', 'N', 'N', 'N', 'N', 'Y', 'Y', 'N', 'Y', 'Y', 'Y', 'Y', 'N', 'N', 'N', 'N', 'N', 'N', 'N', 'N', 'N', 'N', 'N', 'N', 'N', 'N', 'N', 'Y', 'Y', 'N', 'Y', 'N', 'N', 'N', 'N', 'N', 'N', 'N', 'N', 'N', 'N', 'N', 'N', 'N', 'N', 'N', 'N', 'N', 'N', 'N', 'N', 'N', 'Y', 'N', 'N', 'N', 'N', 'N', 'N', 'N', 'N', 'Y', 'N', 'N', 'N', 'N', 'N', 'N', 'N', 'N', 'N', 'N', 'N', 'N', 'N', 'Y', 'N', 'N', 'N', 'Y', 'N', 'Y', 'Y', 'N', 'N', 'N', 'N', 'Y', 'N', 'N', 'N', 'N', 'N', 'N', 'Y', 'Y', 'N', 'N', 'Y', 'Y', 'N', 'Y', 'N', 'N', 'N', 'N', 'N', 'N', 'N', 'N', 'N', 'N', 'N', 'N', 'Y', 'N', 'N', 'N', 'N', 'N', 'N', 'N', 'N', 'N', 'Y', 'N', 'N', 'N', 'N', 'N', 'N', 'Y', 'N', 'N', 'N', 'N', 'N', 'N', 'N', 'N', 'N', 'N', 'N', 'N', 'N', 'N', 'N', 'Y', 'N', 'N', 'N', 'N', 'N', 'Y', 'Y', 'N', 'N', 'Y', 'N', 'N', 'N', 'N', 'N', 'N', 'N', 'N', 'N', 'N', 'N', 'N', 'Y', 'N', 'Y', 'Y', 'Y', 'N', 'N', 'N', 'N', 'Y', 'N', 'N', 'N', 'N', 'N', 'N', 'N', 'N', 'N', 'N', 'N', 'N', 'N', 'N', 'N', 'N', 'N', 'N', 'N', 'N', 'N', 'N', 'N', 'N', 'N', 'N', 'N', 'Y', 'N', 'N', 'N', 'N', 'N', 'N', 'N', 'N', 'N', 'N', 'N', 'N', 'N', 'Y', 'N', 'N', 'N', 'N', 'N', 'N', 'N', 'N', 'N', 'N', 'Y', 'N', 'N', 'N', 'N', 'N', 'N', 'N', 'N', 'N', 'N', 'N', 'N', 'N', 'N', 'N', 'N', 'N', 'Y', 'N', 'N', 'N', 'N', 'N', 'N', 'N', 'N', 'N', 'Y', 'N', 'N', 'Y', 'Y', 'N', 'N', 'N', 'Y', 'N', 'N', 'N', 'N', 'N', 'N', 'Y', 'N', 'N', 'N', 'N', 'N', 'N', 'N', 'N', 'N', 'N', 'Y', 'Y', 'N', 'N', 'N', 'Y', 'N', 'N', 'N', 'Y', 'N', 'Y', 'N', 'Y', 'Y', 'N', 'N', 'Y', 'N', 'N', 'N', 'Y', 'N', 'Y', 'N', 'N', 'N', 'N', 'N', 'N', 'N', 'N', 'Y', 'N', 'N', 'Y', 'Y', 'N', 'N', 'N', 'Y', 'N', 'Y', 'Y', 'Y', 'Y', 'N', 'Y', 'N', 'Y', 'N', 'N', 'N', 'N', 'Y', 'Y', 'N', 'N', 'Y', 'N', 'Y', 'N', 'N', 'N', 'N', 'Y', 'Y', 'N', 'Y', 'N', 'N', 'N', 'N', 'N', 'N', 'N', 'N', 'N', 'N', 'N', 'N', 'N', 'N', 'N', 'Y', 'N', 'N', 'N', 'N', 'N', 'N', 'N', 'N', 'N', 'N', 'Y', 'N', 'N', 'N', 'N', 'N', 'N', 'Y', 'N', 'Y', 'Y', 'N', 'N', 'N', 'N', 'N', 'N', 'Y', 'N', 'N', 'N', 'N', 'N', 'N', 'N', 'Y', 'N', 'Y', 'N', 'N', 'Y', 'N', 'Y', 'Y', 'N', 'Y', 'Y', 'N', 'N', 'N', 'N', 'N', 'N', 'N', 'N', 'N', 'N', 'N', 'N', 'N', 'Y', 'N', 'N', 'N', 'Y', 'N', 'N', 'N', 'N', 'N', 'Y', 'N', 'N', 'N', 'Y', 'Y', 'N', 'Y', 'N', 'N', 'N', 'N', 'N', 'Y', 'N', 'N', 'N', 'N', 'N', 'N', 'N', 'Y', 'N', 'N', 'Y', 'N', 'N', 'Y', 'N', 'N', 'N', 'N', 'Y', 'N', 'N', 'Y', 'N', 'N', 'N', 'N', 'Y', 'N', 'Y', 'N', 'N', 'N', 'Y', 'Y', 'N', 'N', 'N', 'N', 'Y', 'N', 'N', 'N', 'N', 'Y', 'N', 'N', 'N', 'N', 'Y', 'N', 'N', 'N', 'Y', 'N', 'N', 'N', 'N', 'Y', 'N', 'N', 'N', 'N', 'N', 'N', 'N', 'Y', 'N', 'N', 'N', 'N', 'Y', 'N', 'N', 'N', 'N', 'N', 'N', 'Y', 'N', 'N', 'N', 'N', 'N', 'N', 'Y', 'N', 'Y', 'N', 'N', 'Y', 'N', 'N', 'N', 'N', 'N', 'N', 'N', 'N', 'N', 'N', 'N', 'Y', 'N', 'Y', 'Y', 'N', 'Y', 'N', 'N', 'N', 'Y', 'N', 'N', 'N', 'N', 'Y', 'N', 'N', 'N', 'N', 'N', 'N', 'Y', 'N', 'N', 'N', 'N', 'N', 'N', 'N', 'N', 'N', 'Y', 'N', 'N', 'N', 'N', 'N', 'N', 'N', 'N', 'N', 'N', 'N', 'N', 'Y', 'N', 'N', 'N', 'N', 'N', 'N', 'N', 'N', 'N', 'N', 'N', 'N', 'Y', 'N', 'N', 'N', 'N', 'N', 'N', 'N', 'N', 'N', 'N', 'N', 'N', 'N', 'N', 'N', 'N', 'N', 'N', 'N', 'N', 'N', 'Y', 'Y', 'N', 'N', 'N', 'N', 'N', 'N', 'N', 'N', 'N', 'N', 'N', 'N', 'N', 'Y', 'N', 'N', 'N', 'N', 'N', 'N', 'Y', 'Y', 'N', 'Y', 'N', 'N', 'N', 'Y', 'N', 'N', 'Y', 'N', 'N', 'N', 'Y', 'N', 'N', 'N', 'N', 'N', 'N', 'Y', 'N', 'N', 'N', 'N', 'N', 'N', 'N', 'N', 'N', 'N', 'N', 'N', 'N', 'N', 'N', 'N', 'N', 'N', 'N', 'Y', 'N', 'N', 'N', 'N', 'N', 'N', 'N', 'N', 'N', 'N', 'N', 'N', 'N', 'N', 'N', 'Y', 'Y', 'Y', 'N', 'N', 'Y', 'N', 'N', 'N', 'N', 'Y', 'N', 'Y', 'N', 'N', 'Y', 'N', 'N', 'N', 'N', 'N', 'N', 'N', 'N', 'N', 'N', 'N', 'N', 'N', 'N', 'N', 'N', 'N', 'N', 'Y', 'N', 'N', 'N', 'N', 'N', 'N', 'N', 'N', 'N', 'N', 'Y', 'Y', 'N', 'Y', 'N', 'Y', 'N', 'Y', 'N', 'Y', 'N', 'N', 'N', 'N', 'N', 'N', 'N', 'N', 'N', 'N', 'N', 'N', 'N', 'Y', 'N', 'Y', 'N', 'N', 'N', 'N', 'N', 'N', 'Y', 'Y', 'N', 'N', 'N', 'Y', 'N', 'N', 'N', 'Y', 'N', 'N', 'N', 'N', 'N', 'N', 'N', 'N', 'N', 'N', 'N', 'N', 'Y', 'N', 'N', 'N', 'Y', 'Y', 'Y', 'N', 'N', 'N', 'N', 'Y', 'Y', 'N', 'N', 'N', 'N', 'N', 'N', 'N', 'N', 'N', 'N', 'N', 'N', 'N', 'N', 'N', 'Y', 'N', 'N', 'N', 'N', 'N', 'N', 'N', 'N', 'N', 'N', 'N', 'N', 'N', 'N', 'N', 'Y', 'N', 'Y', 'N', 'N', 'Y', 'N', 'N', 'N', 'Y', 'Y', 'N', 'N', 'N', 'N', 'N', 'N', 'N', 'N', 'N', 'N', 'Y', 'N', 'N', 'N', 'N', 'N', 'Y', 'N', 'N', 'N', 'N', 'Y', 'N', 'N', 'N', 'Y', 'N', 'N', 'N', 'Y', 'Y', 'Y', 'Y', 'Y', 'N', 'Y', 'N', 'N', 'N', 'N', 'N', 'Y', 'Y', 'N', 'Y', 'Y', 'Y', 'Y', 'N', 'N', 'N', 'Y', 'Y', 'N', 'N', 'Y', 'Y', 'N', 'N', 'Y', 'Y', 'N', 'N', 'N', 'N', 'Y', 'N', 'N', 'N', 'N', 'N', 'N', 'Y', 'N', 'Y', 'Y', 'Y', 'Y', 'Y', 'N', 'N', 'N', 'N', 'N', 'N', 'N', 'Y', 'N', 'N', 'N', 'N', 'N', 'N', 'N', 'N', 'N', 'N', 'Y', 'N', 'N', 'N', 'N', 'Y', 'Y', 'N', 'Y', 'N', 'N', 'N', 'N', 'N', 'N', 'Y', 'N', 'Y', 'Y', 'Y', 'N', 'N', 'N', 'Y', 'N', 'N', 'Y', 'N', 'N', 'N', 'N', 'N', 'N', 'N', 'N', 'N', 'N', 'N', 'N', 'N', 'N', 'N', 'N', 'N', 'N', 'N', 'N', 'Y', 'Y', 'N', 'N', 'Y', 'N', 'N', 'Y', 'N', 'N', 'N', 'N', 'N', 'Y', 'N', 'N', 'N', 'Y', 'N', 'N', 'N', 'Y', 'Y', 'N', 'N', 'N', 'N', 'N', 'N', 'Y', 'N', 'Y', 'N', 'N', 'N', 'N', 'N', 'Y', 'N', 'Y', 'N', 'N', 'N', 'N', 'N', 'N', 'N', 'N', 'N', 'N', 'Y', 'N', 'N', 'N', 'N', 'N', 'Y', 'Y', 'N', 'N', 'N', 'N', 'N', 'N', 'N', 'N', 'N', 'Y', 'Y', 'N', 'N', 'N', 'N', 'Y', 'N', 'N', 'N', 'N', 'N', 'Y', 'N', 'Y', 'N', 'N', 'N', 'N', 'N', 'N', 'N', 'N', 'N', 'N', 'N', 'N', 'N', 'N', 'N', 'N', 'Y', 'N', 'N', 'N', 'N', 'N', 'N', 'N', 'N', 'N', 'Y', 'Y', 'Y', 'N', 'Y', 'N', 'Y', 'N', 'Y', 'N', 'N', 'Y', 'N', 'N', 'Y', 'N', 'N', 'N', 'Y', 'N', 'Y', 'N', 'N', 'N', 'Y', 'N', 'N', 'N', 'N', 'N', 'N', 'Y', 'N', 'N', 'N', 'N', 'N', 'N', 'N', 'N', 'N', 'N', 'N', 'N', 'Y', 'N', 'N', 'N', 'N', 'Y', 'N', 'N', 'N', 'N', 'Y', 'N', 'N', 'N', 'Y', 'N', 'Y', 'N', 'N', 'N', 'N', 'N', 'N', 'N', 'Y', 'N', 'N', 'N', 'N', 'N', 'Y', 'N', 'Y', 'N', 'Y', 'N', 'N', 'N', 'Y', 'N', 'N', 'Y', 'N', 'N', 'N', 'N', 'Y', 'N', 'N', 'N', 'N', 'N', 'N', 'Y', 'N']\n",
      "488\n",
      "1858\n"
     ]
    }
   ],
   "source": [
    "delayedList = []\n",
    "y = 0\n",
    "n = 0\n",
    "for t in FlightDelay['Delay Time']: \n",
    "    if t > 15:\n",
    "        y += 1\n",
    "        delayedList.append('Y')\n",
    "    else:\n",
    "        n += 1\n",
    "        delayedList.append('N')\n",
    "print(delayedList)\n",
    "print(y)\n",
    "print(n)"
   ]
  },
  {
   "cell_type": "code",
   "execution_count": 130,
   "metadata": {},
   "outputs": [],
   "source": [
    "FlightDelay.insert(6, 'Delayed', delayedList)"
   ]
  },
  {
   "cell_type": "code",
   "execution_count": 131,
   "metadata": {},
   "outputs": [
    {
     "name": "stdout",
     "output_type": "stream",
     "text": [
      "     Carrier Origin Destination  Departure Delay  Arrival Delay  Delay Time  \\\n",
      "0         AA    JFK         LAS               -5            -23         -28   \n",
      "1         AA    SFO         ORD               -5            -27         -32   \n",
      "2         AA    SFO         ORD               -1            -26         -27   \n",
      "3         AA    SFO         ORD               -9            -30         -39   \n",
      "4         AA    SFO         ORD               -9             -9         -18   \n",
      "...      ...    ...         ...              ...            ...         ...   \n",
      "2341      WN    SFO         LAS                0            -10         -10   \n",
      "2342      WN    SFO         LAS                1            -10          -9   \n",
      "2343      WN    SFO         LAS               -6            -16         -22   \n",
      "2344      WN    SFO         LAS               15             13          28   \n",
      "2345      WN    SFO         LAS               -1            -11         -12   \n",
      "\n",
      "     Delayed  \n",
      "0          N  \n",
      "1          N  \n",
      "2          N  \n",
      "3          N  \n",
      "4          N  \n",
      "...      ...  \n",
      "2341       N  \n",
      "2342       N  \n",
      "2343       N  \n",
      "2344       Y  \n",
      "2345       N  \n",
      "\n",
      "[2346 rows x 7 columns]\n"
     ]
    }
   ],
   "source": [
    "print(FlightDelay)"
   ]
  },
  {
   "cell_type": "code",
   "execution_count": 132,
   "metadata": {},
   "outputs": [
    {
     "name": "stdout",
     "output_type": "stream",
     "text": [
      "         Origin  Destination  Departure Delay  Arrival Delay  Delay Time  \\\n",
      "Carrier                                                                    \n",
      "AA          311          311              311            311         311   \n",
      "B6          244          244              244            244         244   \n",
      "DL          516          516              516            516         516   \n",
      "F9           59           59               59             59          59   \n",
      "OO           83           83               83             83          83   \n",
      "UA          644          644              644            644         644   \n",
      "VX          312          312              312            312         312   \n",
      "WN          177          177              177            177         177   \n",
      "\n",
      "         Delayed  \n",
      "Carrier           \n",
      "AA           311  \n",
      "B6           244  \n",
      "DL           516  \n",
      "F9            59  \n",
      "OO            83  \n",
      "UA           644  \n",
      "VX           312  \n",
      "WN           177  \n"
     ]
    }
   ],
   "source": [
    "print(FlightDelay.groupby(['Carrier']).count())"
   ]
  },
  {
   "cell_type": "code",
   "execution_count": 133,
   "metadata": {},
   "outputs": [
    {
     "name": "stdout",
     "output_type": "stream",
     "text": [
      "        Delayed\n",
      "Origin         \n",
      "JFK         617\n",
      "SFO        1729\n",
      "     Carrier Origin Destination  Departure Delay  Arrival Delay  Delay Time  \\\n",
      "0         AA    JFK         LAS               -5            -23         -28   \n",
      "1         AA    SFO         ORD               -5            -27         -32   \n",
      "2         AA    SFO         ORD               -1            -26         -27   \n",
      "3         AA    SFO         ORD               -9            -30         -39   \n",
      "4         AA    SFO         ORD               -9             -9         -18   \n",
      "...      ...    ...         ...              ...            ...         ...   \n",
      "2341      WN    SFO         LAS                0            -10         -10   \n",
      "2342      WN    SFO         LAS                1            -10          -9   \n",
      "2343      WN    SFO         LAS               -6            -16         -22   \n",
      "2344      WN    SFO         LAS               15             13          28   \n",
      "2345      WN    SFO         LAS               -1            -11         -12   \n",
      "\n",
      "     Delayed  \n",
      "0          N  \n",
      "1          N  \n",
      "2          N  \n",
      "3          N  \n",
      "4          N  \n",
      "...      ...  \n",
      "2341       N  \n",
      "2342       N  \n",
      "2343       N  \n",
      "2344       Y  \n",
      "2345       N  \n",
      "\n",
      "[2346 rows x 7 columns]\n"
     ]
    }
   ],
   "source": [
    "print(FlightDelay[['Origin', 'Delayed']].groupby(['Origin']).count())\n",
    "print(FlightDelay)"
   ]
  },
  {
   "cell_type": "code",
   "execution_count": 139,
   "metadata": {},
   "outputs": [
    {
     "name": "stdout",
     "output_type": "stream",
     "text": [
      "['AA' 'B6' 'DL' 'F9' 'OO' 'UA' 'VX' 'WN']\n",
      "[54, 64, 98, 24, 15, 122, 74, 37]\n",
      "[257, 180, 418, 35, 68, 522, 238, 140]\n"
     ]
    }
   ],
   "source": [
    "carrierY = []\n",
    "carrierN = []\n",
    "for carrier in FlightDelay['Carrier'].unique():\n",
    "    df = FlightDelay[(FlightDelay == carrier).any(axis = 1)]\n",
    "    carrierY.append(df[(df == 'Y').any(axis = 1)].shape[0])\n",
    "    carrierN.append(df[(df == 'N').any(axis = 1)].shape[0])\n",
    "print(FlightDelay['Carrier'].unique())\n",
    "print(carrierY)\n",
    "print(carrierN)"
   ]
  },
  {
   "cell_type": "code",
   "execution_count": 140,
   "metadata": {},
   "outputs": [
    {
     "name": "stdout",
     "output_type": "stream",
     "text": [
      "['JFK' 'SFO']\n",
      "[125, 363]\n",
      "[492, 1366]\n"
     ]
    }
   ],
   "source": [
    "originY = []\n",
    "originN = []\n",
    "for o in FlightDelay['Origin'].unique():\n",
    "    df = FlightDelay[(FlightDelay == o).any(axis = 1)]\n",
    "    originY.append(df[(df == 'Y').any(axis = 1)].shape[0])\n",
    "    originN.append(df[(df == 'N').any(axis = 1)].shape[0])\n",
    "print(FlightDelay['Origin'].unique())\n",
    "print(originY)\n",
    "print(originN)\n"
   ]
  },
  {
   "cell_type": "code",
   "execution_count": 141,
   "metadata": {},
   "outputs": [
    {
     "name": "stdout",
     "output_type": "stream",
     "text": [
      "['LAS' 'ORD' 'ATL']\n",
      "[236, 174, 78]\n",
      "[853, 653, 352]\n",
      "Y: 488\n",
      "N: 1858\n"
     ]
    }
   ],
   "source": [
    "destinationY = []\n",
    "destinationN = []\n",
    "for o in FlightDelay['Destination'].unique():\n",
    "    df = FlightDelay[(FlightDelay == o).any(axis = 1)]\n",
    "    destinationY.append(df[(df == 'Y').any(axis = 1)].shape[0])\n",
    "    destinationN.append(df[(df == 'N').any(axis = 1)].shape[0])\n",
    "print(FlightDelay['Destination'].unique())\n",
    "print(destinationY)\n",
    "print(destinationN)\n",
    "print('Y: 488')\n",
    "print('N: 1858')"
   ]
  },
  {
   "cell_type": "code",
   "execution_count": 135,
   "metadata": {},
   "outputs": [
    {
     "name": "stdout",
     "output_type": "stream",
     "text": [
      "P(Delay|JFK, LAS, AA): 0.014212595526708786\n",
      "P(notDelay|JFK, LAS, AA): 0.01694547697857722\n",
      "JFK to LAS on AA classified to not delay\n"
     ]
    }
   ],
   "source": [
    "#JFK to LAS on AA\n",
    "JY = (125 + 2) / (488 + 4)\n",
    "JN = (492 + 2) / (1858 + 4)\n",
    "LY = (236 + 2) / (488 + 4)\n",
    "LN = (853 + 2) / (1858 + 4)\n",
    "AAY = (54 + 2) / (488 + 4)\n",
    "AAN = (257 + 2) / (1858 + 4)\n",
    "pY = JY * LY * AAY\n",
    "pN = JN * LN * AAN\n",
    "print('P(Delay|JFK, LAS, AA):', pY)\n",
    "print('P(notDelay|JFK, LAS, AA):', pN)\n",
    "print('JFK to LAS on AA classified to not delay')"
   ]
  },
  {
   "cell_type": "code",
   "execution_count": 136,
   "metadata": {},
   "outputs": [
    {
     "name": "stdout",
     "output_type": "stream",
     "text": [
      "P(Delay|JFK, LAS, B6): 0.01675055901362107\n",
      "P(notDelay|JFK, LAS, B6): 0.011907632471432643\n",
      "JFK to LAS on JetBlue classified to delay\n"
     ]
    }
   ],
   "source": [
    "#JFK to LAS on JetBlue\n",
    "JY = (125 + 2) / (488 + 4)\n",
    "JN = (492 + 2) / (1858 + 4)\n",
    "LY = (236 + 2) / (488 + 4)\n",
    "LN = (853 + 2) / (1858 + 4)\n",
    "B6Y = (64 + 2) / (488 + 4)\n",
    "B6N = (180 + 2) / (1858 + 4)\n",
    "pY = JY * LY * B6Y\n",
    "pN = JN * LN * B6N\n",
    "print('P(Delay|JFK, LAS, B6):', pY)\n",
    "print('P(notDelay|JFK, LAS, B6):', pN)\n",
    "print('JFK to LAS on JetBlue classified to delay')"
   ]
  },
  {
   "cell_type": "code",
   "execution_count": 137,
   "metadata": {},
   "outputs": [
    {
     "name": "stdout",
     "output_type": "stream",
     "text": [
      "P(Delay|SFO, ORD, VX): 0.040994332211813096\n",
      "P(notDelay|SFO, ORD, VX): 0.033311915727351725\n",
      "SFO to ORD on Virgin Airlines classified to delay\n"
     ]
    }
   ],
   "source": [
    "#SFO to ORD on Virgin Airlines\n",
    "SY = (363 + 2) / (488 + 4)\n",
    "SN = (1366 + 2) / (1858 + 4)\n",
    "OY = (174 + 2) / (488 + 4)\n",
    "ON = (653 + 2) / (1858 + 4)\n",
    "VXY = (74 + 2) / (488 + 4)\n",
    "VXN = (238 + 2) / (1858 + 4)\n",
    "pY = SY * OY * VXY\n",
    "pN = SN * ON * VXN\n",
    "print('P(Delay|SFO, ORD, VX):', pY)\n",
    "print('P(notDelay|SFO, ORD, VX):', pN)\n",
    "print('SFO to ORD on Virgin Airlines classified to delay')"
   ]
  },
  {
   "cell_type": "code",
   "execution_count": 138,
   "metadata": {},
   "outputs": [
    {
     "name": "stdout",
     "output_type": "stream",
     "text": [
      "P(Delay|SFO, ORD, WN): 0.021036565213956717\n",
      "P(notDelay|SFO, ORD, WN): 0.0197095501386831\n",
      "SFO to ORD on Soutnwest Airlines classified to delay\n"
     ]
    }
   ],
   "source": [
    "#SFO to ORD on Southwest Airline\n",
    "SY = (363 + 2) / (488 + 4)\n",
    "SN = (1366 + 2) / (1858 + 4)\n",
    "OY = (174 + 2) / (488 + 4)\n",
    "ON = (653 + 2) / (1858 + 4)\n",
    "WNY = (37 + 2) / (488 + 4)\n",
    "WNN = (140 + 2) / (1858 + 4)\n",
    "pY = SY * OY * WNY\n",
    "pN = SN * ON * WNN\n",
    "print('P(Delay|SFO, ORD, WN):', pY)\n",
    "print('P(notDelay|SFO, ORD, WN):', pN)\n",
    "print('SFO to ORD on Soutnwest Airlines classified to delay')"
   ]
  }
 ],
 "metadata": {
  "kernelspec": {
   "display_name": "Python 3",
   "language": "python",
   "name": "python3"
  },
  "language_info": {
   "codemirror_mode": {
    "name": "ipython",
    "version": 3
   },
   "file_extension": ".py",
   "mimetype": "text/x-python",
   "name": "python",
   "nbconvert_exporter": "python",
   "pygments_lexer": "ipython3",
   "version": "3.11.5"
  }
 },
 "nbformat": 4,
 "nbformat_minor": 2
}
