{
 "cells": [
  {
   "cell_type": "code",
   "execution_count": 1,
   "metadata": {},
   "outputs": [],
   "source": [
    "import pandas as pd\n",
    "import matplotlib.pyplot as plt"
   ]
  },
  {
   "cell_type": "code",
   "execution_count": 3,
   "metadata": {},
   "outputs": [
    {
     "name": "stdout",
     "output_type": "stream",
     "text": [
      "     Carrier Origin Destination  Departure Delay  Arrival Delay\n",
      "0         AA    JFK         LAS               -5            -23\n",
      "1         AA    SFO         ORD               -5            -27\n",
      "2         AA    SFO         ORD               -1            -26\n",
      "3         AA    SFO         ORD               -9            -30\n",
      "4         AA    SFO         ORD               -9             -9\n",
      "...      ...    ...         ...              ...            ...\n",
      "2341      WN    SFO         LAS                0            -10\n",
      "2342      WN    SFO         LAS                1            -10\n",
      "2343      WN    SFO         LAS               -6            -16\n",
      "2344      WN    SFO         LAS               15             13\n",
      "2345      WN    SFO         LAS               -1            -11\n",
      "\n",
      "[2346 rows x 5 columns]\n"
     ]
    }
   ],
   "source": [
    "FlightDelay = pd.read_csv('FlightDelay.csv')\n",
    "print(FlightDelay)"
   ]
  },
  {
   "cell_type": "code",
   "execution_count": null,
   "metadata": {},
   "outputs": [],
   "source": []
  }
 ],
 "metadata": {
  "kernelspec": {
   "display_name": "Python 3",
   "language": "python",
   "name": "python3"
  },
  "language_info": {
   "codemirror_mode": {
    "name": "ipython",
    "version": 3
   },
   "file_extension": ".py",
   "mimetype": "text/x-python",
   "name": "python",
   "nbconvert_exporter": "python",
   "pygments_lexer": "ipython3",
   "version": "3.11.5"
  }
 },
 "nbformat": 4,
 "nbformat_minor": 2
}
